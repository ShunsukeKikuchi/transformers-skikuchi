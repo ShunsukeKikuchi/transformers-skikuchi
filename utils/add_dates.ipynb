{
 "cells": [
  {
   "cell_type": "code",
   "execution_count": 1,
   "id": "39117adf",
   "metadata": {},
   "outputs": [],
   "source": [
    "import re\n",
    "import os\n",
    "import subprocess\n",
    "from arxiv import Search, Client"
   ]
  },
  {
   "cell_type": "code",
   "execution_count": 3,
   "id": "f0cb10a5",
   "metadata": {},
   "outputs": [],
   "source": [
    "root = os.getcwd().split('utils')[0]\n",
    "DOCS_PATH = os.path.join(root, \"docs\", \"source\", \"en\", \"model_doc\")\n",
    "MODELS_PATH = os.path.join(root, \"src/transformers/models\")\n",
    "\n",
    "def paper_link(model_name=None, path=None):\n",
    "    \n",
    "    if model_name != None and not model_name.endswith(\".md\"):\n",
    "        model_name = f\"{model_name}.md\"\n",
    "    file_path = path or os.path.join(DOCS_PATH, f\"{model_name}\")\n",
    "\n",
    "    with open(file_path, 'r', encoding=\"utf-8\") as f:\n",
    "        content = f.read()\n",
    "    paper_ids = re.findall(r\"https://huggingface\\.co/papers/(\\d+\\.\\d+)\", content)\n",
    "    paper_ids += re.findall(r\"https://hf\\.co/papers/(\\d+\\.\\d+)\", content)\n",
    "    if len(paper_ids) == 0:\n",
    "        return None, 0\n",
    "    return paper_ids[0], len(set(paper_ids))"
   ]
  },
  {
   "cell_type": "code",
   "execution_count": 4,
   "id": "9a4be095",
   "metadata": {},
   "outputs": [],
   "source": [
    "info = {}\n",
    "\n",
    "docs_list = os.listdir(DOCS_PATH)\n",
    "docs_list.sort()\n",
    "#print(docs_list)\n",
    "for docs in docs_list:\n",
    "    if docs.endswith(\".md\"):\n",
    "        paper_ids, count = paper_link(docs)\n",
    "        # if count > 0:\n",
    "        info[docs] = {\"paper_id\": paper_ids, \"count\": count}\n",
    "\n",
    "no_papers = [k for k, v in info.items() if v[\"paper_id\"] is None]\n",
    "many_papers = [k for k, v in info.items() if v[\"count\"] > 1]\n",
    "single_paper = [k for k, v in info.items() if v[\"count\"] == 1]"
   ]
  },
  {
   "cell_type": "code",
   "execution_count": 7,
   "id": "ad2038c1",
   "metadata": {},
   "outputs": [
    {
     "data": {
      "text/plain": [
       "['aimv2.md',\n",
       " 'albert.md',\n",
       " 'align.md',\n",
       " 'altclip.md',\n",
       " 'aria.md',\n",
       " 'autoformer.md',\n",
       " 'aya_vision.md',\n",
       " 'bart.md',\n",
       " 'barthez.md',\n",
       " 'bartpho.md',\n",
       " 'bert-generation.md',\n",
       " 'bert.md',\n",
       " 'bertweet.md',\n",
       " 'big_bird.md',\n",
       " 'bigbird_pegasus.md',\n",
       " 'biogpt.md',\n",
       " 'bitnet.md',\n",
       " 'blenderbot-small.md',\n",
       " 'blip.md',\n",
       " 'bloom.md',\n",
       " 'bort.md',\n",
       " 'bridgetower.md',\n",
       " 'bros.md',\n",
       " 'byt5.md',\n",
       " 'camembert.md',\n",
       " 'canine.md',\n",
       " 'chameleon.md',\n",
       " 'chinese_clip.md',\n",
       " 'clap.md',\n",
       " 'clip.md',\n",
       " 'clipseg.md',\n",
       " 'clvp.md',\n",
       " 'code_llama.md',\n",
       " 'codegen.md',\n",
       " 'colpali.md',\n",
       " 'colqwen2.md',\n",
       " 'conditional_detr.md',\n",
       " 'convbert.md',\n",
       " 'convnext.md',\n",
       " 'convnextv2.md',\n",
       " 'cpm.md',\n",
       " 'ctrl.md',\n",
       " 'cvt.md',\n",
       " 'd_fine.md',\n",
       " 'dab-detr.md',\n",
       " 'dac.md',\n",
       " 'data2vec.md',\n",
       " 'deberta-v2.md',\n",
       " 'deberta.md',\n",
       " 'decision_transformer.md',\n",
       " 'deepseek_v2.md',\n",
       " 'deepseek_v3.md',\n",
       " 'deformable_detr.md',\n",
       " 'deplot.md',\n",
       " 'depth_anything.md',\n",
       " 'depth_pro.md',\n",
       " 'deta.md',\n",
       " 'detr.md',\n",
       " 'dialogpt.md',\n",
       " 'diffllama.md',\n",
       " 'dinat.md',\n",
       " 'dinov2.md',\n",
       " 'dinov2_with_registers.md',\n",
       " 'distilbert.md',\n",
       " 'dit.md',\n",
       " 'donut.md',\n",
       " 'dots1.md',\n",
       " 'dpr.md',\n",
       " 'dpt.md',\n",
       " 'efficientformer.md',\n",
       " 'efficientnet.md',\n",
       " 'electra.md',\n",
       " 'emu3.md',\n",
       " 'encodec.md',\n",
       " 'eomt.md',\n",
       " 'ernie_m.md',\n",
       " 'falcon.md',\n",
       " 'falcon_mamba.md',\n",
       " 'fastspeech2_conformer.md',\n",
       " 'flan-t5.md',\n",
       " 'flaubert.md',\n",
       " 'flava.md',\n",
       " 'fnet.md',\n",
       " 'focalnet.md',\n",
       " 'fsmt.md',\n",
       " 'funnel.md',\n",
       " 'gemma.md',\n",
       " 'gemma2.md',\n",
       " 'gemma3.md',\n",
       " 'git.md',\n",
       " 'glm.md',\n",
       " 'glm4.md',\n",
       " 'glm4v.md',\n",
       " 'glpn.md',\n",
       " 'got_ocr2.md',\n",
       " 'gpt_bigcode.md',\n",
       " 'gpt_neox.md',\n",
       " 'granite.md',\n",
       " 'granitemoe.md',\n",
       " 'granitemoeshared.md',\n",
       " 'graphormer.md',\n",
       " 'groupvit.md',\n",
       " 'herbert.md',\n",
       " 'hgnet_v2.md',\n",
       " 'hiera.md',\n",
       " 'hubert.md',\n",
       " 'ibert.md',\n",
       " 'idefics.md',\n",
       " 'idefics2.md',\n",
       " 'idefics3.md',\n",
       " 'ijepa.md',\n",
       " 'informer.md',\n",
       " 'instructblip.md',\n",
       " 'instructblipvideo.md',\n",
       " 'internvl.md',\n",
       " 'jamba.md',\n",
       " 'jetmoe.md',\n",
       " 'kosmos-2.md',\n",
       " 'layoutlm.md',\n",
       " 'layoutlmv3.md',\n",
       " 'led.md',\n",
       " 'levit.md',\n",
       " 'lightglue.md',\n",
       " 'lilt.md',\n",
       " 'llama.md',\n",
       " 'llama2.md',\n",
       " 'llama3.md',\n",
       " 'llava_next_video.md',\n",
       " 'llava_onevision.md',\n",
       " 'longformer.md',\n",
       " 'longt5.md',\n",
       " 'luke.md',\n",
       " 'lxmert.md',\n",
       " 'm2m_100.md',\n",
       " 'madlad-400.md',\n",
       " 'mamba.md',\n",
       " 'mamba2.md',\n",
       " 'marian.md',\n",
       " 'markuplm.md',\n",
       " 'mask2former.md',\n",
       " 'maskformer.md',\n",
       " 'matcha.md',\n",
       " 'mbart.md',\n",
       " 'mctct.md',\n",
       " 'mega.md',\n",
       " 'megatron-bert.md',\n",
       " 'megatron_gpt2.md',\n",
       " 'mgp-str.md',\n",
       " 'mimi.md',\n",
       " 'minimax.md',\n",
       " 'mistral.md',\n",
       " 'mlcd.md',\n",
       " 'mms.md',\n",
       " 'mobilebert.md',\n",
       " 'mobilenet_v1.md',\n",
       " 'modernbert-decoder.md',\n",
       " 'modernbert.md',\n",
       " 'moonshine.md',\n",
       " 'moshi.md',\n",
       " 'mpnet.md',\n",
       " 'mra.md',\n",
       " 'mt5.md',\n",
       " 'musicgen.md',\n",
       " 'musicgen_melody.md',\n",
       " 'myt5.md',\n",
       " 'nat.md',\n",
       " 'nezha.md',\n",
       " 'nllb-moe.md',\n",
       " 'nllb.md',\n",
       " 'nougat.md',\n",
       " 'nystromformer.md',\n",
       " 'olmo.md',\n",
       " 'olmo2.md',\n",
       " 'olmoe.md',\n",
       " 'omdet-turbo.md',\n",
       " 'oneformer.md',\n",
       " 'opt.md',\n",
       " 'owlv2.md',\n",
       " 'owlvit.md',\n",
       " 'patchtsmixer.md',\n",
       " 'patchtst.md',\n",
       " 'pegasus.md',\n",
       " 'pegasus_x.md',\n",
       " 'perception_lm.md',\n",
       " 'phi.md',\n",
       " 'phi3.md',\n",
       " 'phi4_multimodal.md',\n",
       " 'phimoe.md',\n",
       " 'phobert.md',\n",
       " 'pix2struct.md',\n",
       " 'pixtral.md',\n",
       " 'plbart.md',\n",
       " 'poolformer.md',\n",
       " 'prompt_depth_anything.md',\n",
       " 'prophetnet.md',\n",
       " 'pvt.md',\n",
       " 'qdqbert.md',\n",
       " 'qwen2.md',\n",
       " 'qwen2_5_omni.md',\n",
       " 'qwen2_5_vl.md',\n",
       " 'qwen2_audio.md',\n",
       " 'qwen2_moe.md',\n",
       " 'qwen2_vl.md',\n",
       " 'qwen3.md',\n",
       " 'qwen3_moe.md',\n",
       " 'rag.md',\n",
       " 'realm.md',\n",
       " 'recurrent_gemma.md',\n",
       " 'rembert.md',\n",
       " 'resnet.md',\n",
       " 'roberta.md',\n",
       " 'roformer.md',\n",
       " 'rt_detr.md',\n",
       " 'rt_detr_v2.md',\n",
       " 'sam_hq.md',\n",
       " 'seamless_m4t.md',\n",
       " 'segformer.md',\n",
       " 'seggpt.md',\n",
       " 'sew-d.md',\n",
       " 'sew.md',\n",
       " 'shieldgemma2.md',\n",
       " 'siglip.md',\n",
       " 'siglip2.md',\n",
       " 'smolvlm.md',\n",
       " 'speech-encoder-decoder.md',\n",
       " 'speech_to_text.md',\n",
       " 'speech_to_text_2.md',\n",
       " 'speecht5.md',\n",
       " 'splinter.md',\n",
       " 'squeezebert.md',\n",
       " 'starcoder2.md',\n",
       " 'superglue.md',\n",
       " 'superpoint.md',\n",
       " 'swiftformer.md',\n",
       " 'swin.md',\n",
       " 'swin2sr.md',\n",
       " 'swinv2.md',\n",
       " 'switch_transformers.md',\n",
       " 't5.md',\n",
       " 't5gemma.md',\n",
       " 't5v1.1.md',\n",
       " 'table-transformer.md',\n",
       " 'tapas.md',\n",
       " 'tapex.md',\n",
       " 'textnet.md',\n",
       " 'timesfm.md',\n",
       " 'timesformer.md',\n",
       " 'trajectory_transformer.md',\n",
       " 'transfo-xl.md',\n",
       " 'trocr.md',\n",
       " 'tvp.md',\n",
       " 'udop.md',\n",
       " 'ul2.md',\n",
       " 'unispeech-sat.md',\n",
       " 'unispeech.md',\n",
       " 'univnet.md',\n",
       " 'upernet.md',\n",
       " 'van.md',\n",
       " 'video_llava.md',\n",
       " 'videomae.md',\n",
       " 'vilt.md',\n",
       " 'vipllava.md',\n",
       " 'vision-encoder-decoder.md',\n",
       " 'vision-text-dual-encoder.md',\n",
       " 'visual_bert.md',\n",
       " 'vit.md',\n",
       " 'vit_hybrid.md',\n",
       " 'vit_mae.md',\n",
       " 'vit_msn.md',\n",
       " 'vitdet.md',\n",
       " 'vitmatte.md',\n",
       " 'vits.md',\n",
       " 'vivit.md',\n",
       " 'wav2vec2-bert.md',\n",
       " 'wav2vec2.md',\n",
       " 'wav2vec2_phoneme.md',\n",
       " 'wavlm.md',\n",
       " 'whisper.md',\n",
       " 'xclip.md',\n",
       " 'xglm.md',\n",
       " 'xlm-prophetnet.md',\n",
       " 'xlm-roberta-xl.md',\n",
       " 'xlm-roberta.md',\n",
       " 'xlm-v.md',\n",
       " 'xlm.md',\n",
       " 'xlnet.md',\n",
       " 'xls_r.md',\n",
       " 'xlsr_wav2vec2.md',\n",
       " 'yolos.md',\n",
       " 'yoso.md',\n",
       " 'zamba.md',\n",
       " 'zamba2.md',\n",
       " 'zoedepth.md']"
      ]
     },
     "execution_count": 7,
     "metadata": {},
     "output_type": "execute_result"
    }
   ],
   "source": [
    "single_paper"
   ]
  },
  {
   "cell_type": "code",
   "execution_count": 9,
   "id": "e2cb11a9",
   "metadata": {},
   "outputs": [
    {
     "data": {
      "text/plain": [
       "['audio-spectrogram-transformer.md',\n",
       " 'beit.md',\n",
       " 'bit.md',\n",
       " 'blenderbot.md',\n",
       " 'blip-2.md',\n",
       " 'deit.md',\n",
       " 'depth_anything_v2.md',\n",
       " 'encoder-decoder.md',\n",
       " 'ernie.md',\n",
       " 'granite_speech.md',\n",
       " 'grounding-dino.md',\n",
       " 'janus.md',\n",
       " 'jukebox.md',\n",
       " 'layoutlmv2.md',\n",
       " 'layoutxlm.md',\n",
       " 'llava.md',\n",
       " 'mluke.md',\n",
       " 'mobilenet_v2.md',\n",
       " 'mobilevit.md',\n",
       " 'mobilevitv2.md',\n",
       " 'mvp.md',\n",
       " 'nemotron.md',\n",
       " 'paligemma.md',\n",
       " 'perceiver.md',\n",
       " 'pop2piano.md',\n",
       " 'pvt_v2.md',\n",
       " 'reformer.md',\n",
       " 'regnet.md',\n",
       " 'roberta-prelayernorm.md',\n",
       " 'sam.md',\n",
       " 'seamless_m4t_v2.md',\n",
       " 'tvlt.md',\n",
       " 'vitpose.md',\n",
       " 'wav2vec2-conformer.md']"
      ]
     },
     "execution_count": 9,
     "metadata": {},
     "output_type": "execute_result"
    }
   ],
   "source": [
    "many_papers"
   ]
  },
  {
   "cell_type": "code",
   "execution_count": 26,
   "id": "5d07216a",
   "metadata": {},
   "outputs": [],
   "source": [
    "with_arxiv = []"
   ]
  },
  {
   "cell_type": "code",
   "execution_count": 36,
   "id": "e795cfe2",
   "metadata": {},
   "outputs": [],
   "source": [
    "\n",
    "for doc in many_papers:\n",
    "    with open(os.path.join(DOCS_PATH, doc), 'r', encoding=\"utf-8\") as f:\n",
    "        content = f.read()\n",
    "    if \"https://arxiv.org\" in content:\n",
    "        with_arxiv.append(doc)"
   ]
  },
  {
   "cell_type": "code",
   "execution_count": 35,
   "id": "fd9f38ce",
   "metadata": {},
   "outputs": [
    {
     "data": {
      "text/plain": [
       "['t5gemma.md', 'gemma3n.md', 'mixtral.md', 'umt5.md', 'vjepa2.md', 'xmod.md']"
      ]
     },
     "execution_count": 35,
     "metadata": {},
     "output_type": "execute_result"
    }
   ],
   "source": [
    "with_arxiv"
   ]
  },
  {
   "cell_type": "code",
   "execution_count": 37,
   "id": "f43a342c",
   "metadata": {},
   "outputs": [
    {
     "data": {
      "text/plain": [
       "['t5gemma.md',\n",
       " 'gemma3n.md',\n",
       " 'mixtral.md',\n",
       " 'umt5.md',\n",
       " 'vjepa2.md',\n",
       " 'xmod.md',\n",
       " 'nemotron.md']"
      ]
     },
     "execution_count": 37,
     "metadata": {},
     "output_type": "execute_result"
    }
   ],
   "source": [
    "with_arxiv"
   ]
  },
  {
   "cell_type": "code",
   "execution_count": 5,
   "id": "9ca0022a",
   "metadata": {},
   "outputs": [
    {
     "data": {
      "text/plain": [
       "(293, 50, 34)"
      ]
     },
     "execution_count": 5,
     "metadata": {},
     "output_type": "execute_result"
    }
   ],
   "source": [
    "len(single_paper), len(no_papers), len(many_papers)"
   ]
  },
  {
   "cell_type": "code",
   "execution_count": 6,
   "id": "68d8d5b4",
   "metadata": {},
   "outputs": [
    {
     "data": {
      "text/plain": [
       "(False, False, False)"
      ]
     },
     "execution_count": 6,
     "metadata": {},
     "output_type": "execute_result"
    }
   ],
   "source": [
    "\"sam_hq\" in single_paper, \"sam_hq\" in no_papers, \"sam_hq\" in many_papers"
   ]
  },
  {
   "cell_type": "code",
   "execution_count": 19,
   "id": "b985e914",
   "metadata": {},
   "outputs": [],
   "source": [
    "def get_first_commit_date(model_name=None):\n",
    "    \n",
    "    if model_name.endswith(\".md\"):\n",
    "        model_name = f\"{model_name[:-3]}\"\n",
    "        \n",
    "    model_name_src = model_name\n",
    "    if \"-\" in model_name:\n",
    "        model_name_src = model_name.replace(\"-\", \"_\")\n",
    "    file_path = os.path.join(MODELS_PATH, model_name_src, \"__init__.py\")\n",
    "    if not os.path.exists(file_path):\n",
    "        file_path = os.path.join(DOCS_PATH, f\"{model_name}.md\")\n",
    "    result = subprocess.check_output(\n",
    "        [\"git\", \"log\", \"--reverse\", \"--pretty=format:%ad\", \"--date=iso\", file_path],\n",
    "        text=True\n",
    "    )\n",
    "    return result.strip().split('\\n')[0][:10]\n",
    "# first_result = get_first_commit_date(\"dinov2.md\")\n",
    "\n",
    "def get_release_date(link):\n",
    "    if link.startswith(\"https://huggingface.co/papers/\"):\n",
    "        link = link.replace(\"https://huggingface.co/papers/\", \"\")\n",
    "    client = Client()\n",
    "    search = Search(id_list=[link])\n",
    "    results = list(client.results(search))\n",
    "    if len(results) != 0:\n",
    "        return results[0].published.date().isoformat()\n",
    "    else:\n",
    "        return \"No info found\""
   ]
  },
  {
   "cell_type": "code",
   "execution_count": 21,
   "id": "c6993f4d",
   "metadata": {},
   "outputs": [
    {
     "data": {
      "text/plain": [
       "'2020-11-27'"
      ]
     },
     "execution_count": 21,
     "metadata": {},
     "output_type": "execute_result"
    }
   ],
   "source": [
    "get_first_commit_date(\"barthez\")"
   ]
  },
  {
   "cell_type": "code",
   "execution_count": 7,
   "id": "3ccce680",
   "metadata": {},
   "outputs": [],
   "source": [
    "no_marker = []"
   ]
  },
  {
   "cell_type": "code",
   "execution_count": 9,
   "id": "5437ee99",
   "metadata": {},
   "outputs": [
    {
     "data": {
      "text/plain": [
       "[]"
      ]
     },
     "execution_count": 9,
     "metadata": {},
     "output_type": "execute_result"
    }
   ],
   "source": [
    "with open(os.path.join(DOCS_PATH, \"sam_hq.md\"), \"r\") as f:\n",
    "    content = f.read()\n",
    "marker = re.finditer(r\"-->\", content)\n",
    "list(marker)"
   ]
  },
  {
   "cell_type": "code",
   "execution_count": 54,
   "id": "82e5be81",
   "metadata": {},
   "outputs": [
    {
     "data": {
      "text/plain": [
       "27"
      ]
     },
     "execution_count": 54,
     "metadata": {},
     "output_type": "execute_result"
    }
   ],
   "source": [
    "len(\"*This model was released on\")"
   ]
  },
  {
   "cell_type": "code",
   "execution_count": 21,
   "id": "828cb24d",
   "metadata": {},
   "outputs": [],
   "source": [
    "def insert_dates(docs_list):\n",
    "    for doc in docs_list:\n",
    "        if not doc.endswith(\".md\"):\n",
    "            doc = f\"{doc}.md\"\n",
    "        file_path = os.path.join(DOCS_PATH, doc)\n",
    "        paper_id, count = paper_link(path=file_path)\n",
    "        if paper_id is not None:\n",
    "            release_date = get_release_date(paper_id)\n",
    "        else:\n",
    "            print(\"no huggingface paper link found in\", doc)\n",
    "            release_date = \"{release_date}\"\n",
    "        hf_commit_date = get_first_commit_date(model_name=doc)\n",
    "\n",
    "        with open(file_path, 'r', encoding=\"utf-8\") as f:\n",
    "            content = f.read()\n",
    "        markers = list(re.finditer(r\"-->\", content))\n",
    "        if len(markers) == 0:\n",
    "            print(f\"No marker found in {doc}. Skipping.\")\n",
    "            no_marker.append(doc)\n",
    "            continue\n",
    "\n",
    "        # if paper_id is None:\n",
    "        #     continue\n",
    "        if doc == \"auto.md\" or doc == \"timm_wrapper\":\n",
    "            continue\n",
    "\n",
    "        insert_index = markers[0].end()\n",
    "        date_info = f\"\\n*This model was released on {release_date} and added to Hugging Face Transformers on {hf_commit_date}.*\"\n",
    "\n",
    "        if date_info not in content:\n",
    "            pattern = r\"\\n\\*This model was released on .* and added to Hugging Face Transformers on .*\\.\\*\"\n",
    "            \n",
    "            if re.search(pattern, content):\n",
    "                content = re.sub(pattern, \"\", content)\n",
    "                content = content[:insert_index] + date_info + content[insert_index:]\n",
    "                with open(file_path, 'w', encoding=\"utf-8\") as f:\n",
    "                    f.write(content)\n",
    "                print(f\"Updated {doc} release and commit dates.\")\n",
    "\n",
    "            else:\n",
    "                content = content[:insert_index] + date_info + content[insert_index:]\n",
    "                with open(file_path, 'w', encoding=\"utf-8\") as f:\n",
    "                    f.write(content)\n",
    "                print(f\"Added {doc} release and commit dates.\")   # This if else block can be shortened if diff messages are not needed for update and add\n",
    "\n",
    "        else:\n",
    "            print(f\"{doc} already has the release and commit dates.\")\n",
    "\n",
    "\n",
    "\n",
    "# for the models that have only one paper, we can add the date of the first commit\n",
    "# just iterate thru the list of these models\n",
    "# extract the link with paper_link()\n",
    "# then get_arxiv_info(link) and get first_commit_date(model_name)\n",
    "# insert the info if it already does not exist"
   ]
  },
  {
   "cell_type": "code",
   "execution_count": 35,
   "id": "f8f42d1b",
   "metadata": {},
   "outputs": [
    {
     "name": "stdout",
     "output_type": "stream",
     "text": [
      "qwen2_moe.md already has the release and commit dates.\n",
      "qwen2_vl.md already has the release and commit dates.\n",
      "rag.md already has the release and commit dates.\n",
      "realm.md already has the release and commit dates.\n",
      "rembert.md already has the release and commit dates.\n",
      "resnet.md already has the release and commit dates.\n",
      "roberta.md already has the release and commit dates.\n",
      "roformer.md already has the release and commit dates.\n",
      "rt_detr.md already has the release and commit dates.\n",
      "rt_detr_v2.md already has the release and commit dates.\n",
      "No marker found in sam_hq.md. Skipping.\n",
      "Added seamless_m4t.md release and commit dates.\n",
      "Added segformer.md release and commit dates.\n",
      "Added seggpt.md release and commit dates.\n",
      "Added sew-d.md release and commit dates.\n",
      "Added sew.md release and commit dates.\n",
      "Added shieldgemma2.md release and commit dates.\n",
      "Added siglip.md release and commit dates.\n",
      "Added siglip2.md release and commit dates.\n",
      "Added speech-encoder-decoder.md release and commit dates.\n",
      "Added speech_to_text.md release and commit dates.\n",
      "Added speech_to_text_2.md release and commit dates.\n",
      "Added speecht5.md release and commit dates.\n",
      "Added splinter.md release and commit dates.\n",
      "Added squeezebert.md release and commit dates.\n",
      "Added starcoder2.md release and commit dates.\n",
      "Added superglue.md release and commit dates.\n",
      "Added superpoint.md release and commit dates.\n",
      "Added swiftformer.md release and commit dates.\n",
      "Added swin.md release and commit dates.\n",
      "Added swin2sr.md release and commit dates.\n",
      "Added swinv2.md release and commit dates.\n",
      "Added switch_transformers.md release and commit dates.\n",
      "Added t5.md release and commit dates.\n",
      "Added t5v1.1.md release and commit dates.\n",
      "Added table-transformer.md release and commit dates.\n",
      "Added tapex.md release and commit dates.\n",
      "Added textnet.md release and commit dates.\n",
      "Added timesfm.md release and commit dates.\n",
      "Added timesformer.md release and commit dates.\n",
      "Added trajectory_transformer.md release and commit dates.\n",
      "Added transfo-xl.md release and commit dates.\n",
      "Added trocr.md release and commit dates.\n",
      "Added tvp.md release and commit dates.\n",
      "Added udop.md release and commit dates.\n",
      "Added ul2.md release and commit dates.\n",
      "Added unispeech-sat.md release and commit dates.\n",
      "Added unispeech.md release and commit dates.\n",
      "Added univnet.md release and commit dates.\n",
      "Added upernet.md release and commit dates.\n",
      "Added van.md release and commit dates.\n",
      "Added video_llava.md release and commit dates.\n",
      "Added videomae.md release and commit dates.\n",
      "Added vilt.md release and commit dates.\n",
      "Added vipllava.md release and commit dates.\n",
      "Added vision-encoder-decoder.md release and commit dates.\n",
      "Added vision-text-dual-encoder.md release and commit dates.\n",
      "Added visual_bert.md release and commit dates.\n",
      "Added vit.md release and commit dates.\n",
      "Added vit_hybrid.md release and commit dates.\n",
      "Added vit_mae.md release and commit dates.\n",
      "Added vit_msn.md release and commit dates.\n",
      "Added vitdet.md release and commit dates.\n",
      "Added vitmatte.md release and commit dates.\n",
      "Added vits.md release and commit dates.\n",
      "Added vivit.md release and commit dates.\n",
      "Added wav2vec2.md release and commit dates.\n",
      "Added wav2vec2_phoneme.md release and commit dates.\n",
      "Added wavlm.md release and commit dates.\n",
      "Added whisper.md release and commit dates.\n",
      "Added xclip.md release and commit dates.\n",
      "Added xglm.md release and commit dates.\n",
      "Added xlm-prophetnet.md release and commit dates.\n",
      "Added xlm-roberta-xl.md release and commit dates.\n",
      "Added xlm-roberta.md release and commit dates.\n",
      "Added xlm-v.md release and commit dates.\n",
      "Added xlm.md release and commit dates.\n",
      "Added xlnet.md release and commit dates.\n",
      "Added xls_r.md release and commit dates.\n",
      "Added xlsr_wav2vec2.md release and commit dates.\n",
      "Added yolos.md release and commit dates.\n",
      "Added yoso.md release and commit dates.\n",
      "Added zoedepth.md release and commit dates.\n"
     ]
    }
   ],
   "source": [
    "insert_dates(single_paper[180:])"
   ]
  },
  {
   "cell_type": "code",
   "execution_count": 36,
   "id": "a18123b0",
   "metadata": {},
   "outputs": [
    {
     "name": "stdout",
     "output_type": "stream",
     "text": [
      "Added audio-spectrogram-transformer.md release and commit dates.\n",
      "Added beit.md release and commit dates.\n",
      "Added bit.md release and commit dates.\n",
      "Added blenderbot.md release and commit dates.\n",
      "Added blip-2.md release and commit dates.\n",
      "Added deit.md release and commit dates.\n",
      "Added depth_anything_v2.md release and commit dates.\n",
      "Added encoder-decoder.md release and commit dates.\n",
      "Added ernie.md release and commit dates.\n",
      "Added granite_speech.md release and commit dates.\n",
      "Added grounding-dino.md release and commit dates.\n",
      "Added janus.md release and commit dates.\n",
      "Added jukebox.md release and commit dates.\n",
      "Added layoutlmv2.md release and commit dates.\n",
      "Added layoutxlm.md release and commit dates.\n",
      "Added llava.md release and commit dates.\n",
      "Added mluke.md release and commit dates.\n",
      "Added mobilenet_v2.md release and commit dates.\n",
      "Added mobilevit.md release and commit dates.\n",
      "Added mobilevitv2.md release and commit dates.\n",
      "Added mvp.md release and commit dates.\n",
      "Added nemotron.md release and commit dates.\n",
      "Added paligemma.md release and commit dates.\n",
      "Added perceiver.md release and commit dates.\n",
      "Added pop2piano.md release and commit dates.\n",
      "Added pvt_v2.md release and commit dates.\n",
      "Added reformer.md release and commit dates.\n",
      "Added regnet.md release and commit dates.\n",
      "Added roberta-prelayernorm.md release and commit dates.\n",
      "Added sam.md release and commit dates.\n",
      "Added seamless_m4t_v2.md release and commit dates.\n",
      "Added tvlt.md release and commit dates.\n",
      "Added vitpose.md release and commit dates.\n",
      "Added wav2vec2-conformer.md release and commit dates.\n"
     ]
    }
   ],
   "source": [
    "insert_dates(many_papers)"
   ]
  },
  {
   "cell_type": "code",
   "execution_count": 37,
   "id": "d2ed6d78",
   "metadata": {},
   "outputs": [
    {
     "name": "stdout",
     "output_type": "stream",
     "text": [
      "No marker found in cohere.md. Skipping.\n",
      "No marker found in cohere2.md. Skipping.\n"
     ]
    }
   ],
   "source": [
    "insert_dates(no_papers)"
   ]
  },
  {
   "cell_type": "code",
   "execution_count": 41,
   "id": "6e714971",
   "metadata": {},
   "outputs": [
    {
     "data": {
      "text/plain": [
       "['sam_hq.md', 'cohere.md', 'cohere2.md']"
      ]
     },
     "execution_count": 41,
     "metadata": {},
     "output_type": "execute_result"
    }
   ],
   "source": [
    "no_marker"
   ]
  },
  {
   "cell_type": "code",
   "execution_count": 6,
   "id": "8f1b3719",
   "metadata": {},
   "outputs": [
    {
     "data": {
      "text/plain": [
       "['arcee.md',\n",
       " 'auto.md',\n",
       " 'bamba.md',\n",
       " 'bark.md',\n",
       " 'bert-japanese.md',\n",
       " 'cohere.md',\n",
       " 'cohere2.md',\n",
       " 'cpmant.md',\n",
       " 'csm.md',\n",
       " 'dbrx.md',\n",
       " 'dia.md',\n",
       " 'doge.md',\n",
       " 'esm.md',\n",
       " 'falcon3.md',\n",
       " 'falcon_h1.md',\n",
       " 'flan-ul2.md',\n",
       " 'fuyu.md',\n",
       " 'gemma3n.md',\n",
       " 'gpt-sw3.md',\n",
       " 'gpt2.md',\n",
       " 'gpt_neo.md',\n",
       " 'gpt_neox_japanese.md',\n",
       " 'gptj.md',\n",
       " 'gptsan-japanese.md',\n",
       " 'granitemoehybrid.md',\n",
       " 'granitevision.md',\n",
       " 'helium.md',\n",
       " 'imagegpt.md',\n",
       " 'kyutai_speech_to_text.md',\n",
       " 'lfm2.md',\n",
       " 'llama4.md',\n",
       " 'llava_next.md',\n",
       " 'mistral3.md',\n",
       " 'mixtral.md',\n",
       " 'mllama.md',\n",
       " 'mpt.md',\n",
       " 'open-llama.md',\n",
       " 'openai-gpt.md',\n",
       " 'persimmon.md',\n",
       " 'retribert.md',\n",
       " 'roc_bert.md',\n",
       " 'rwkv.md',\n",
       " 'smollm3.md',\n",
       " 'stablelm.md',\n",
       " 'time_series_transformer.md',\n",
       " 'timm_wrapper.md',\n",
       " 'umt5.md',\n",
       " 'vjepa2.md',\n",
       " 'voxtral.md',\n",
       " 'xmod.md']"
      ]
     },
     "execution_count": 6,
     "metadata": {},
     "output_type": "execute_result"
    }
   ],
   "source": [
    "no_papers"
   ]
  },
  {
   "cell_type": "code",
   "execution_count": 8,
   "id": "737d87ac",
   "metadata": {},
   "outputs": [
    {
     "data": {
      "text/plain": [
       "'2025-06-24'"
      ]
     },
     "execution_count": 8,
     "metadata": {},
     "output_type": "execute_result"
    }
   ],
   "source": [
    "get_first_commit_date(\"arcee\")"
   ]
  },
  {
   "cell_type": "code",
   "execution_count": 7,
   "id": "2302d81e",
   "metadata": {},
   "outputs": [
    {
     "name": "stdout",
     "output_type": "stream",
     "text": [
      "Added aimv2.md release and commit dates.\n"
     ]
    }
   ],
   "source": [
    "insert_dates([\"aimv2\"])"
   ]
  },
  {
   "cell_type": "code",
   "execution_count": 20,
   "id": "972b564b",
   "metadata": {},
   "outputs": [],
   "source": [
    "no_marker = []"
   ]
  },
  {
   "cell_type": "code",
   "execution_count": 21,
   "id": "f5773533",
   "metadata": {},
   "outputs": [
    {
     "name": "stdout",
     "output_type": "stream",
     "text": [
      "no huggingface paper link found in arcee.md\n",
      "Updated arcee.md release and commit dates.\n",
      "no huggingface paper link found in auto.md\n",
      "Added auto.md release and commit dates.\n",
      "no huggingface paper link found in bamba.md\n",
      "Added bamba.md release and commit dates.\n",
      "no huggingface paper link found in bark.md\n",
      "Updated bark.md release and commit dates.\n",
      "no huggingface paper link found in bert-japanese.md\n",
      "Added bert-japanese.md release and commit dates.\n",
      "no huggingface paper link found in bloom.md\n",
      "Added bloom.md release and commit dates.\n",
      "no huggingface paper link found in cohere.md\n",
      "No marker found in cohere.md. Skipping.\n",
      "no huggingface paper link found in cohere2.md\n",
      "No marker found in cohere2.md. Skipping.\n",
      "no huggingface paper link found in cpmant.md\n",
      "Added cpmant.md release and commit dates.\n",
      "no huggingface paper link found in csm.md\n",
      "Added csm.md release and commit dates.\n",
      "no huggingface paper link found in cvt.md\n",
      "Added cvt.md release and commit dates.\n",
      "no huggingface paper link found in dbrx.md\n",
      "Added dbrx.md release and commit dates.\n",
      "no huggingface paper link found in deepseek_v2.md\n",
      "Added deepseek_v2.md release and commit dates.\n",
      "no huggingface paper link found in dia.md\n",
      "Added dia.md release and commit dates.\n",
      "no huggingface paper link found in doge.md\n",
      "Added doge.md release and commit dates.\n",
      "no huggingface paper link found in donut.md\n",
      "Added donut.md release and commit dates.\n",
      "no huggingface paper link found in dots1.md\n",
      "Added dots1.md release and commit dates.\n",
      "no huggingface paper link found in eomt.md\n",
      "Added eomt.md release and commit dates.\n",
      "no huggingface paper link found in esm.md\n",
      "Added esm.md release and commit dates.\n",
      "no huggingface paper link found in falcon3.md\n",
      "Added falcon3.md release and commit dates.\n",
      "no huggingface paper link found in falcon_h1.md\n",
      "Added falcon_h1.md release and commit dates.\n",
      "no huggingface paper link found in flan-ul2.md\n",
      "Added flan-ul2.md release and commit dates.\n",
      "no huggingface paper link found in fuyu.md\n",
      "Added fuyu.md release and commit dates.\n",
      "no huggingface paper link found in gemma3.md\n",
      "Added gemma3.md release and commit dates.\n",
      "no huggingface paper link found in gemma3n.md\n",
      "Added gemma3n.md release and commit dates.\n",
      "no huggingface paper link found in glm4.md\n",
      "Added glm4.md release and commit dates.\n",
      "no huggingface paper link found in gpt-sw3.md\n",
      "Added gpt-sw3.md release and commit dates.\n",
      "no huggingface paper link found in gpt2.md\n",
      "Added gpt2.md release and commit dates.\n",
      "no huggingface paper link found in gpt_neo.md\n",
      "Added gpt_neo.md release and commit dates.\n",
      "no huggingface paper link found in gpt_neox.md\n",
      "Added gpt_neox.md release and commit dates.\n",
      "no huggingface paper link found in gpt_neox_japanese.md\n",
      "Added gpt_neox_japanese.md release and commit dates.\n",
      "no huggingface paper link found in gptj.md\n",
      "Added gptj.md release and commit dates.\n",
      "no huggingface paper link found in gptsan-japanese.md\n",
      "Added gptsan-japanese.md release and commit dates.\n",
      "no huggingface paper link found in granitemoehybrid.md\n",
      "Added granitemoehybrid.md release and commit dates.\n",
      "no huggingface paper link found in granitevision.md\n",
      "Added granitevision.md release and commit dates.\n",
      "no huggingface paper link found in helium.md\n",
      "Added helium.md release and commit dates.\n",
      "no huggingface paper link found in herbert.md\n",
      "Added herbert.md release and commit dates.\n",
      "no huggingface paper link found in imagegpt.md\n",
      "Added imagegpt.md release and commit dates.\n",
      "no huggingface paper link found in kyutai_speech_to_text.md\n",
      "Added kyutai_speech_to_text.md release and commit dates.\n",
      "no huggingface paper link found in lfm2.md\n",
      "Added lfm2.md release and commit dates.\n",
      "no huggingface paper link found in lightglue.md\n",
      "Added lightglue.md release and commit dates.\n",
      "no huggingface paper link found in llama3.md\n",
      "Added llama3.md release and commit dates.\n",
      "no huggingface paper link found in llama4.md\n",
      "Added llama4.md release and commit dates.\n",
      "no huggingface paper link found in llava_next.md\n",
      "Added llava_next.md release and commit dates.\n",
      "no huggingface paper link found in madlad-400.md\n",
      "Added madlad-400.md release and commit dates.\n",
      "no huggingface paper link found in mimi.md\n",
      "Added mimi.md release and commit dates.\n",
      "no huggingface paper link found in mistral3.md\n",
      "Added mistral3.md release and commit dates.\n",
      "no huggingface paper link found in mixtral.md\n",
      "Added mixtral.md release and commit dates.\n",
      "no huggingface paper link found in mlcd.md\n",
      "Added mlcd.md release and commit dates.\n",
      "no huggingface paper link found in mllama.md\n",
      "Added mllama.md release and commit dates.\n",
      "no huggingface paper link found in moshi.md\n",
      "Added moshi.md release and commit dates.\n",
      "no huggingface paper link found in mpt.md\n",
      "Added mpt.md release and commit dates.\n",
      "no huggingface paper link found in open-llama.md\n",
      "Added open-llama.md release and commit dates.\n",
      "no huggingface paper link found in openai-gpt.md\n",
      "Added openai-gpt.md release and commit dates.\n",
      "no huggingface paper link found in perception_lm.md\n",
      "Added perception_lm.md release and commit dates.\n",
      "no huggingface paper link found in persimmon.md\n",
      "Added persimmon.md release and commit dates.\n",
      "no huggingface paper link found in phobert.md\n",
      "Added phobert.md release and commit dates.\n",
      "no huggingface paper link found in pixtral.md\n",
      "Added pixtral.md release and commit dates.\n",
      "no huggingface paper link found in qwen2_5_omni.md\n",
      "Added qwen2_5_omni.md release and commit dates.\n",
      "no huggingface paper link found in qwen3.md\n",
      "Added qwen3.md release and commit dates.\n",
      "no huggingface paper link found in qwen3_moe.md\n",
      "Added qwen3_moe.md release and commit dates.\n",
      "no huggingface paper link found in recurrent_gemma.md\n",
      "Added recurrent_gemma.md release and commit dates.\n",
      "no huggingface paper link found in retribert.md\n",
      "Added retribert.md release and commit dates.\n",
      "no huggingface paper link found in roc_bert.md\n",
      "Added roc_bert.md release and commit dates.\n",
      "no huggingface paper link found in rwkv.md\n",
      "Added rwkv.md release and commit dates.\n",
      "no huggingface paper link found in smollm3.md\n",
      "Added smollm3.md release and commit dates.\n",
      "no huggingface paper link found in smolvlm.md\n",
      "Added smolvlm.md release and commit dates.\n",
      "no huggingface paper link found in stablelm.md\n",
      "Added stablelm.md release and commit dates.\n",
      "no huggingface paper link found in t5gemma.md\n",
      "Added t5gemma.md release and commit dates.\n",
      "no huggingface paper link found in tapas.md\n",
      "Added tapas.md release and commit dates.\n",
      "no huggingface paper link found in time_series_transformer.md\n",
      "Added time_series_transformer.md release and commit dates.\n",
      "no huggingface paper link found in timm_wrapper.md\n",
      "Added timm_wrapper.md release and commit dates.\n",
      "no huggingface paper link found in umt5.md\n",
      "Added umt5.md release and commit dates.\n",
      "no huggingface paper link found in vjepa2.md\n",
      "Added vjepa2.md release and commit dates.\n",
      "no huggingface paper link found in voxtral.md\n",
      "Added voxtral.md release and commit dates.\n",
      "no huggingface paper link found in wav2vec2-bert.md\n",
      "Added wav2vec2-bert.md release and commit dates.\n",
      "no huggingface paper link found in xmod.md\n",
      "Added xmod.md release and commit dates.\n",
      "no huggingface paper link found in zamba.md\n",
      "Added zamba.md release and commit dates.\n",
      "no huggingface paper link found in zamba2.md\n",
      "Added zamba2.md release and commit dates.\n"
     ]
    }
   ],
   "source": [
    "insert_dates(no_papers)"
   ]
  },
  {
   "cell_type": "code",
   "execution_count": 24,
   "id": "cb49cde6",
   "metadata": {},
   "outputs": [
    {
     "name": "stdout",
     "output_type": "stream",
     "text": [
      "Updated seamless_m4t_v2.md release and commit dates.\n"
     ]
    }
   ],
   "source": [
    "insert_dates([\"seamless_m4t_v2\"])"
   ]
  },
  {
   "cell_type": "code",
   "execution_count": 23,
   "id": "4d5e2fde",
   "metadata": {},
   "outputs": [
    {
     "data": {
      "text/plain": [
       "['cohere.md', 'cohere2.md']"
      ]
     },
     "execution_count": 23,
     "metadata": {},
     "output_type": "execute_result"
    }
   ],
   "source": [
    "no_marker"
   ]
  },
  {
   "cell_type": "code",
   "execution_count": 25,
   "id": "0532db32",
   "metadata": {},
   "outputs": [
    {
     "name": "stdout",
     "output_type": "stream",
     "text": [
      "Updated qwen2_vl.md release and commit dates.\n"
     ]
    }
   ],
   "source": [
    "insert_dates([\"qwen2_vl\"])\n",
    "\n"
   ]
  },
  {
   "cell_type": "code",
   "execution_count": 12,
   "id": "ba9f5180",
   "metadata": {},
   "outputs": [
    {
     "data": {
      "text/plain": [
       "'2024-12-13'"
      ]
     },
     "execution_count": 12,
     "metadata": {},
     "output_type": "execute_result"
    }
   ],
   "source": [
    "get_first_commit_date(\"cohere2\")"
   ]
  },
  {
   "cell_type": "code",
   "execution_count": null,
   "id": "9fb632b2",
   "metadata": {},
   "outputs": [],
   "source": []
  },
  {
   "cell_type": "code",
   "execution_count": null,
   "id": "7424618e",
   "metadata": {},
   "outputs": [
    {
     "data": {
      "text/plain": [
       "'2022-01-21'"
      ]
     },
     "execution_count": 20,
     "metadata": {},
     "output_type": "execute_result"
    }
   ],
   "source": [
    "get_first_commit_date(\"swin\")"
   ]
  },
  {
   "cell_type": "code",
   "execution_count": null,
   "id": "51ac4a0e",
   "metadata": {},
   "outputs": [],
   "source": []
  }
 ],
 "metadata": {
  "kernelspec": {
   "display_name": "Python 3",
   "language": "python",
   "name": "python3"
  },
  "language_info": {
   "codemirror_mode": {
    "name": "ipython",
    "version": 3
   },
   "file_extension": ".py",
   "mimetype": "text/x-python",
   "name": "python",
   "nbconvert_exporter": "python",
   "pygments_lexer": "ipython3",
   "version": "3.12.1"
  }
 },
 "nbformat": 4,
 "nbformat_minor": 5
}
